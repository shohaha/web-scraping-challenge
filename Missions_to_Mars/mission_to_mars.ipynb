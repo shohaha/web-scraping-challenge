{
 "cells": [
  {
   "cell_type": "markdown",
   "id": "f5d54ab1",
   "metadata": {},
   "source": [
    "## Dependancies\n",
    "\n",
    "- Load required packages"
   ]
  },
  {
   "cell_type": "code",
   "execution_count": 1,
   "id": "308f60f4",
   "metadata": {},
   "outputs": [],
   "source": [
    "import pandas as pd\n",
    "import requests\n",
    "import time"
   ]
  },
  {
   "cell_type": "code",
   "execution_count": 2,
   "id": "5c704cd1",
   "metadata": {},
   "outputs": [],
   "source": [
    "from splinter import Browser\n",
    "from bs4 import BeautifulSoup as bs\n",
    "from webdriver_manager.chrome import ChromeDriverManager"
   ]
  },
  {
   "cell_type": "markdown",
   "id": "30b87334",
   "metadata": {},
   "source": [
    "## Set up"
   ]
  },
  {
   "cell_type": "code",
   "execution_count": 3,
   "id": "8928d1fd",
   "metadata": {},
   "outputs": [
    {
     "name": "stderr",
     "output_type": "stream",
     "text": [
      "\n",
      "\n",
      "====== WebDriver manager ======\n",
      "Current google-chrome version is 96.0.4664\n",
      "Get LATEST chromedriver version for 96.0.4664 google-chrome\n",
      "Driver [/Users/missshola/.wdm/drivers/chromedriver/mac64/96.0.4664.45/chromedriver] found in cache\n"
     ]
    }
   ],
   "source": [
    "# Set up Splinter\n",
    "\n",
    "executable_path = {'executable_path': ChromeDriverManager().install()}\n",
    "browser = Browser('chrome', **executable_path, headless=False)"
   ]
  },
  {
   "cell_type": "markdown",
   "id": "f91339a2",
   "metadata": {},
   "source": [
    "## NASA Mars News"
   ]
  },
  {
   "cell_type": "code",
   "execution_count": 4,
   "id": "7652b25e",
   "metadata": {},
   "outputs": [],
   "source": [
    "# Visit the following URL\n",
    "\n",
    "url = \"https://redplanetscience.com/\"\n",
    "browser.visit(url)"
   ]
  },
  {
   "cell_type": "code",
   "execution_count": 5,
   "id": "00b2f02d",
   "metadata": {},
   "outputs": [],
   "source": [
    "# Delays URL from opening for one second\n",
    "\n",
    "time.sleep(1)"
   ]
  },
  {
   "cell_type": "code",
   "execution_count": 6,
   "id": "216a8d0c",
   "metadata": {},
   "outputs": [],
   "source": [
    "# Scrape page into Soup\n",
    "\n",
    "html = browser.html\n",
    "soup = bs(html, \"html.parser\")"
   ]
  },
  {
   "cell_type": "code",
   "execution_count": 7,
   "id": "9fde24d8",
   "metadata": {},
   "outputs": [],
   "source": [
    "# Locate latest News Title\n",
    "\n",
    "#news_title = soup.find('div', class_=\"container_title\")[0]\n",
    "#latest_news_title = news_title.text\n",
    "#latest_news_title"
   ]
  },
  {
   "cell_type": "code",
   "execution_count": 8,
   "id": "1ac5ad0c",
   "metadata": {},
   "outputs": [],
   "source": [
    "# Locate latest Paragraph Text\n",
    "\n",
    "#news_p = soup.find_all('div', class_=\"article_tease_body\")[0]\n",
    "#latest_news_paragraph = news_p.text\n",
    "#latest_news_paragraph"
   ]
  },
  {
   "cell_type": "code",
   "execution_count": 9,
   "id": "cfacd41f",
   "metadata": {},
   "outputs": [
    {
     "name": "stdout",
     "output_type": "stream",
     "text": [
      "MAVEN Maps Electric Currents around Mars that are Fundamental to Atmospheric Loss\n",
      "--------------------------------------------------------------------\n",
      "Five years after NASA’s MAVEN spacecraft entered into orbit around Mars, data from the mission has led to the creation of a map of electric current systems in the Martian atmosphere.\n"
     ]
    }
   ],
   "source": [
    "news_title = soup.find_all('div', class_='content_title')[0].text\n",
    "news_p = soup.find_all('div', class_='article_teaser_body')[0].text\n",
    "\n",
    "print(news_title)\n",
    "print(\"--------------------------------------------------------------------\")\n",
    "print(news_p)"
   ]
  },
  {
   "cell_type": "code",
   "execution_count": 10,
   "id": "1dbf87a8",
   "metadata": {},
   "outputs": [],
   "source": [
    "# Save text to variables\n",
    "\n",
    "news_title = \"Naming a NASA Mars Rover Can Change Your Life\"\n",
    "news_p = \"Want to name the robotic scientist NASA is sending to Mars in 2020? The student who named Curiosity — the rover currently exploring Mars — will tell you this is an opportunity worth taking.\""
   ]
  },
  {
   "cell_type": "markdown",
   "id": "57d2ca9d",
   "metadata": {},
   "source": [
    "## JPL Mars Space Images—Featured Image"
   ]
  },
  {
   "cell_type": "code",
   "execution_count": 11,
   "id": "c8778ac3",
   "metadata": {},
   "outputs": [],
   "source": [
    "# Visit the following URL\n",
    "\n",
    "mars_space_url = \"https://spaceimages-mars.com\"\n",
    "browser.visit(mars_space_url)\n",
    "\n",
    "# Scrape page into Soup\n",
    "\n",
    "html = browser.html\n",
    "soup = bs(html, 'html.parser')"
   ]
  },
  {
   "cell_type": "code",
   "execution_count": 12,
   "id": "03b9e4f6",
   "metadata": {},
   "outputs": [
    {
     "data": {
      "text/plain": [
       "'image/featured/mars3.jpg'"
      ]
     },
     "execution_count": 12,
     "metadata": {},
     "output_type": "execute_result"
    }
   ],
   "source": [
    "# Iterate to locate image location\n",
    "\n",
    "img = [i.get(\"src\") for i in soup.find_all(\"img\", class_=\"headerimage fade-in\")]\n",
    "img[0]"
   ]
  },
  {
   "cell_type": "code",
   "execution_count": 13,
   "id": "0857702f",
   "metadata": {},
   "outputs": [
    {
     "data": {
      "text/plain": [
       "'https://redplanetscience.com/image/featured/mars3.jpg'"
      ]
     },
     "execution_count": 13,
     "metadata": {},
     "output_type": "execute_result"
    }
   ],
   "source": [
    "# View full featured image url\n",
    "\n",
    "featured_image_url = url + img[0]\n",
    "featured_image_url"
   ]
  },
  {
   "cell_type": "code",
   "execution_count": 15,
   "id": "1c756edd",
   "metadata": {},
   "outputs": [],
   "source": [
    "# Save URL to variable\n",
    "\n",
    "featured_image_url = \"https://redplanetscience.com/image/featured/mars3.jpg\""
   ]
  },
  {
   "cell_type": "markdown",
   "id": "eab5effc",
   "metadata": {},
   "source": [
    "## Mars Facts"
   ]
  },
  {
   "cell_type": "code",
   "execution_count": null,
   "id": "bf74b0d8",
   "metadata": {},
   "outputs": [],
   "source": [
    "# Visit the following URL\n",
    "\n",
    "mars_facts_url = \"https://galaxyfacts-mars.com\"\n",
    "browser.visit(mars_facts_url)\n",
    "\n",
    "# Scrape page into Soup\n",
    "\n",
    "html = browser.html\n",
    "soup = bs(html, 'html.parser')"
   ]
  },
  {
   "cell_type": "code",
   "execution_count": null,
   "id": "e2a2c899",
   "metadata": {},
   "outputs": [],
   "source": []
  },
  {
   "cell_type": "code",
   "execution_count": null,
   "id": "89e939cf",
   "metadata": {},
   "outputs": [],
   "source": []
  },
  {
   "cell_type": "code",
   "execution_count": 14,
   "id": "00933bba",
   "metadata": {},
   "outputs": [],
   "source": [
    "# Close the browser after scraping\n",
    "browser.quit()"
   ]
  }
 ],
 "metadata": {
  "kernelspec": {
   "display_name": "PythonData",
   "language": "python",
   "name": "pythondata"
  },
  "language_info": {
   "codemirror_mode": {
    "name": "ipython",
    "version": 3
   },
   "file_extension": ".py",
   "mimetype": "text/x-python",
   "name": "python",
   "nbconvert_exporter": "python",
   "pygments_lexer": "ipython3",
   "version": "3.7.13"
  }
 },
 "nbformat": 4,
 "nbformat_minor": 5
}
